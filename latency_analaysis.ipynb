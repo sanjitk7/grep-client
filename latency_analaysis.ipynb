{
  "nbformat": 4,
  "nbformat_minor": 0,
  "metadata": {
    "colab": {
      "provenance": [],
      "collapsed_sections": []
    },
    "kernelspec": {
      "name": "python3",
      "display_name": "Python 3"
    },
    "language_info": {
      "name": "python"
    }
  },
  "cells": [
    {
      "cell_type": "markdown",
      "source": [
        "Objective: to calculate the latency, which is the time taken by a query between the time it is executed and returns a result."
      ],
      "metadata": {
        "id": "bWsOaU8V9MOo"
      }
    },
    {
      "cell_type": "markdown",
      "source": [
        "Methodology:\n",
        "\n",
        "We have 3 classes of queries (Frequent/Infrequent/Never occurs).\n",
        "\n",
        "Frequent query: grep -c GET, grep -cv Mozilla\n",
        "\n",
        "Infrequent query: grep -c http://thompson-roberts.com/\n",
        "\n",
        "Never occurs query: grep -c 123.163.215.36\n",
        "\n",
        "For each query, we execute it 5 times and compute the mean, std deviation etc."
      ],
      "metadata": {
        "id": "Q5p6ws0u818L"
      }
    },
    {
      "cell_type": "markdown",
      "source": [
        "Logs:\n",
        "\n",
        "```\n",
        "[aruna2@fa22-cs425-6501 grep-client]$ java -cp \"target/grepmp-1.0-SNAPSHOT.jar:target/dependency/*\" com.grepmp.app.App\n",
        "Enter GREP Command: \n",
        "grep -c GET\n",
        "fa22-cs425-6504.cs.illinois.edu::3002 : 162590\n",
        "fa22-cs425-6505.cs.illinois.edu::3002 : 162714\n",
        "fa22-cs425-6501.cs.illinois.edu::3002 : 170372\n",
        "fa22-cs425-6508.cs.illinois.edu::3002 : 164776\n",
        "FILE MATCHES: 4\n",
        "TIME ELAPSED: 966\n",
        "[aruna2@fa22-cs425-6501 grep-client]$ java -cp \"target/grepmp-1.0-SNAPSHOT.jar:target/dependency/*\" com.grepmp.app.App\n",
        "Enter GREP Command: \n",
        "grep -c GET\n",
        "fa22-cs425-6504.cs.illinois.edu::3002 : 162590\n",
        "fa22-cs425-6505.cs.illinois.edu::3002 : 162714\n",
        "fa22-cs425-6501.cs.illinois.edu::3002 : 170372\n",
        "fa22-cs425-6508.cs.illinois.edu::3002 : 164776\n",
        "FILE MATCHES: 4\n",
        "TIME ELAPSED: 943\n",
        "[aruna2@fa22-cs425-6501 grep-client]$ java -cp \"target/grepmp-1.0-SNAPSHOT.jar:target/dependency/*\" com.grepmp.app.App\n",
        "Enter GREP Command: \n",
        "grep -c GET\n",
        "fa22-cs425-6504.cs.illinois.edu::3002 : 162590\n",
        "fa22-cs425-6501.cs.illinois.edu::3002 : 170372\n",
        "fa22-cs425-6505.cs.illinois.edu::3002 : 162714\n",
        "fa22-cs425-6508.cs.illinois.edu::3002 : 164776\n",
        "FILE MATCHES: 4\n",
        "TIME ELAPSED: 941\n",
        "[aruna2@fa22-cs425-6501 grep-client]$ java -cp \"target/grepmp-1.0-SNAPSHOT.jar:target/dependency/*\" com.grepmp.app.App\n",
        "Enter GREP Command: \n",
        "grep -c GET\n",
        "fa22-cs425-6504.cs.illinois.edu::3002 : 162590\n",
        "fa22-cs425-6505.cs.illinois.edu::3002 : 162714\n",
        "fa22-cs425-6501.cs.illinois.edu::3002 : 170372\n",
        "fa22-cs425-6508.cs.illinois.edu::3002 : 164776\n",
        "FILE MATCHES: 4\n",
        "TIME ELAPSED: 932\n",
        "[aruna2@fa22-cs425-6501 grep-client]$ java -cp \"target/grepmp-1.0-SNAPSHOT.jar:target/dependency/*\" com.grepmp.app.App\n",
        "Enter GREP Command: \n",
        "grep -c GET\n",
        "fa22-cs425-6504.cs.illinois.edu::3002 : 162590\n",
        "fa22-cs425-6505.cs.illinois.edu::3002 : 162714\n",
        "fa22-cs425-6501.cs.illinois.edu::3002 : 170372\n",
        "fa22-cs425-6508.cs.illinois.edu::3002 : 164776\n",
        "FILE MATCHES: 4\n",
        "TIME ELAPSED: 965\n",
        "[aruna2@fa22-cs425-6501 grep-client]$ java -cp \"target/grepmp-1.0-SNAPSHOT.jar:target/dependency/*\" com.grepmp.app.App\n",
        "Enter GREP Command: \n",
        "grep -c 123.163.215.36\n",
        "fa22-cs425-6504.cs.illinois.edu::3002 : 0\n",
        "fa22-cs425-6505.cs.illinois.edu::3002 : 0\n",
        "fa22-cs425-6508.cs.illinois.edu::3002 : 0\n",
        "fa22-cs425-6501.cs.illinois.edu::3002 : 0\n",
        "FILE MATCHES: 4\n",
        "TIME ELAPSED: 1481\n",
        "[aruna2@fa22-cs425-6501 grep-client]$ java -cp \"target/grepmp-1.0-SNAPSHOT.jar:target/dependency/*\" com.grepmp.app.App\n",
        "Enter GREP Command: \n",
        "grep -c 123.163.215.36\n",
        "fa22-cs425-6505.cs.illinois.edu::3002 : 0\n",
        "fa22-cs425-6504.cs.illinois.edu::3002 : 0\n",
        "fa22-cs425-6508.cs.illinois.edu::3002 : 0\n",
        "fa22-cs425-6501.cs.illinois.edu::3002 : 0\n",
        "FILE MATCHES: 4\n",
        "TIME ELAPSED: 1052\n",
        "[aruna2@fa22-cs425-6501 grep-client]$ java -cp \"target/grepmp-1.0-SNAPSHOT.jar:target/dependency/*\" com.grepmp.app.App\n",
        "Enter GREP Command: \n",
        "grep -c 123.163.215.36\n",
        "fa22-cs425-6505.cs.illinois.edu::3002 : 0\n",
        "fa22-cs425-6504.cs.illinois.edu::3002 : 0\n",
        "fa22-cs425-6508.cs.illinois.edu::3002 : 0\n",
        "fa22-cs425-6501.cs.illinois.edu::3002 : 0\n",
        "FILE MATCHES: 4\n",
        "TIME ELAPSED: 1069\n",
        "[aruna2@fa22-cs425-6501 grep-client]$ java -cp \"target/grepmp-1.0-SNAPSHOT.jar:target/dependency/*\" com.grepmp.app.App\n",
        "Enter GREP Command: \n",
        "grep -c 123.163.215.36\n",
        "fa22-cs425-6505.cs.illinois.edu::3002 : 0\n",
        "fa22-cs425-6508.cs.illinois.edu::3002 : 0\n",
        "fa22-cs425-6501.cs.illinois.edu::3002 : 0\n",
        "fa22-cs425-6504.cs.illinois.edu::3002 : 0\n",
        "FILE MATCHES: 4\n",
        "TIME ELAPSED: 1099\n",
        "[aruna2@fa22-cs425-6501 grep-client]$ java -cp \"target/grepmp-1.0-SNAPSHOT.jar:target/dependency/*\" com.grepmp.app.App\n",
        "Enter GREP Command: \n",
        "grep -c 123.163.215.36\n",
        "fa22-cs425-6505.cs.illinois.edu::3002 : 0\n",
        "fa22-cs425-6504.cs.illinois.edu::3002 : 0\n",
        "fa22-cs425-6508.cs.illinois.edu::3002 : 0\n",
        "fa22-cs425-6501.cs.illinois.edu::3002 : 0\n",
        "FILE MATCHES: 4\n",
        "TIME ELAPSED: 1259\n",
        "[aruna2@fa22-cs425-6501 grep-client]$ \n",
        "[aruna2@fa22-cs425-6501 grep-client]$ java -cp \"target/grepmp-1.0-SNAPSHOT.jar:target/dependency/*\" com.grepmp.app.App\n",
        "Enter GREP Command: \n",
        "grep -cv Mozilla       \n",
        "fa22-cs425-6505.cs.illinois.edu::3002 : 13701\n",
        "fa22-cs425-6504.cs.illinois.edu::3002 : 13835\n",
        "fa22-cs425-6508.cs.illinois.edu::3002 : 13848\n",
        "fa22-cs425-6501.cs.illinois.edu::3002 : 14355\n",
        "FILE MATCHES: 4\n",
        "TIME ELAPSED: 1112\n",
        "[aruna2@fa22-cs425-6501 grep-client]$ java -cp \"target/grepmp-1.0-SNAPSHOT.jar:target/dependency/*\" com.grepmp.app.App\n",
        "Enter GREP Command: \n",
        "grep -cv Mozilla       \n",
        "fa22-cs425-6504.cs.illinois.edu::3002 : 13835\n",
        "fa22-cs425-6505.cs.illinois.edu::3002 : 13701\n",
        "fa22-cs425-6508.cs.illinois.edu::3002 : 13848\n",
        "fa22-cs425-6501.cs.illinois.edu::3002 : 14355\n",
        "FILE MATCHES: 4\n",
        "TIME ELAPSED: 1035\n",
        "[aruna2@fa22-cs425-6501 grep-client]$ \n",
        "[aruna2@fa22-cs425-6501 grep-client]$ java -cp \"target/grepmp-1.0-SNAPSHOT.jar:target/dependency/*\" com.grepmp.app.App\n",
        "Enter GREP Command: \n",
        "grep -cv Mozilla       \n",
        "fa22-cs425-6504.cs.illinois.edu::3002 : 13835\n",
        "fa22-cs425-6505.cs.illinois.edu::3002 : 13701\n",
        "fa22-cs425-6508.cs.illinois.edu::3002 : 13848\n",
        "fa22-cs425-6501.cs.illinois.edu::3002 : 14355\n",
        "FILE MATCHES: 4\n",
        "TIME ELAPSED: 1038\n",
        "[aruna2@fa22-cs425-6501 grep-client]$ java -cp \"target/grepmp-1.0-SNAPSHOT.jar:target/dependency/*\" com.grepmp.app.App\n",
        "Enter GREP Command: \n",
        "grep -cv Mozilla       \n",
        "fa22-cs425-6505.cs.illinois.edu::3002 : 13701\n",
        "fa22-cs425-6504.cs.illinois.edu::3002 : 13835\n",
        "fa22-cs425-6508.cs.illinois.edu::3002 : 13848\n",
        "fa22-cs425-6501.cs.illinois.edu::3002 : 14355\n",
        "FILE MATCHES: 4\n",
        "TIME ELAPSED: 1045\n",
        "[aruna2@fa22-cs425-6501 grep-client]$ java -cp \"target/grepmp-1.0-SNAPSHOT.jar:target/dependency/*\" com.grepmp.app.App\n",
        "Enter GREP Command: \n",
        "grep -cv Mozilla       \n",
        "fa22-cs425-6505.cs.illinois.edu::3002 : 13701\n",
        "fa22-cs425-6504.cs.illinois.edu::3002 : 13835\n",
        "fa22-cs425-6508.cs.illinois.edu::3002 : 13848\n",
        "fa22-cs425-6501.cs.illinois.edu::3002 : 14355\n",
        "FILE MATCHES: 4\n",
        "TIME ELAPSED: 1038\n",
        "[aruna2@fa22-cs425-6501 grep-client]$ java -cp \"target/grepmp-1.0-SNAPSHOT.jar:target/dependency/*\" com.grepmp.app.App\n",
        "Enter GREP Command: \n",
        "grep -c http://thompson-roberts.com/\n",
        "fa22-cs425-6505.cs.illinois.edu::3002 : 1\n",
        "fa22-cs425-6508.cs.illinois.edu::3002 : 0\n",
        "fa22-cs425-6504.cs.illinois.edu::3002 : 0\n",
        "fa22-cs425-6501.cs.illinois.edu::3002 : 1\n",
        "FILE MATCHES: 4\n",
        "TIME ELAPSED: 1058\n",
        "[aruna2@fa22-cs425-6501 grep-client]$ java -cp \"target/grepmp-1.0-SNAPSHOT.jar:target/dependency/*\" com.grepmp.app.App\n",
        "Enter GREP Command: \n",
        "grep -c http://thompson-roberts.com/\n",
        "fa22-cs425-6505.cs.illinois.edu::3002 : 1\n",
        "fa22-cs425-6504.cs.illinois.edu::3002 : 0\n",
        "fa22-cs425-6508.cs.illinois.edu::3002 : 0\n",
        "fa22-cs425-6501.cs.illinois.edu::3002 : 1\n",
        "FILE MATCHES: 4\n",
        "TIME ELAPSED: 1021\n",
        "[aruna2@fa22-cs425-6501 grep-client]$ java -cp \"target/grepmp-1.0-SNAPSHOT.jar:target/dependency/*\" com.grepmp.app.App\n",
        "Enter GREP Command: \n",
        "grep -c http://thompson-roberts.com/\n",
        "fa22-cs425-6504.cs.illinois.edu::3002 : 0\n",
        "fa22-cs425-6505.cs.illinois.edu::3002 : 1\n",
        "fa22-cs425-6508.cs.illinois.edu::3002 : 0\n",
        "fa22-cs425-6501.cs.illinois.edu::3002 : 1\n",
        "FILE MATCHES: 4\n",
        "TIME ELAPSED: 1022\n",
        "[aruna2@fa22-cs425-6501 grep-client]$ java -cp \"target/grepmp-1.0-SNAPSHOT.jar:target/dependency/*\" com.grepmp.app.App\n",
        "Enter GREP Command: \n",
        "grep -c http://thompson-roberts.com/\n",
        "fa22-cs425-6505.cs.illinois.edu::3002 : 1\n",
        "fa22-cs425-6504.cs.illinois.edu::3002 : 0\n",
        "fa22-cs425-6508.cs.illinois.edu::3002 : 0\n",
        "fa22-cs425-6501.cs.illinois.edu::3002 : 1\n",
        "FILE MATCHES: 4\n",
        "TIME ELAPSED: 1031\n",
        "[aruna2@fa22-cs425-6501 grep-client]$ java -cp \"target/grepmp-1.0-SNAPSHOT.jar:target/dependency/*\" com.grepmp.app.App\n",
        "Enter GREP Command: \n",
        "grep -c http://thompson-roberts.com/\n",
        "fa22-cs425-6505.cs.illinois.edu::3002 : 1\n",
        "fa22-cs425-6508.cs.illinois.edu::3002 : 0\n",
        "fa22-cs425-6504.cs.illinois.edu::3002 : 0\n",
        "fa22-cs425-6501.cs.illinois.edu::3002 : 1\n",
        "FILE MATCHES: 4\n",
        "TIME ELAPSED: 1046\n",
        "[aruna2@fa22-cs425-6501 grep-client]$  \n",
        "```"
      ],
      "metadata": {
        "id": "DiLMIta7e6wA"
      }
    },
    {
      "cell_type": "code",
      "execution_count": 1,
      "metadata": {
        "id": "N63OxDOTcpR1"
      },
      "outputs": [],
      "source": [
        "import pandas as pd\n",
        "import numpy as np"
      ]
    },
    {
      "cell_type": "code",
      "source": [
        "observation_1 = [966,1481,1058]\n",
        "observation_2 = [943,1052,1021]\n",
        "observation_3 = [941,1069,1022]\n",
        "observation_4 = [932,1099,1031]\n",
        "observation_5 = [965,1259,1046]\n",
        "\n",
        "df = pd.DataFrame(list(zip(observation_1, observation_2, observation_3, observation_4, observation_5)),\n",
        "               index =[\"frequent\", \"infrequent\", \"never occurs\"])\n",
        "\n",
        "df"
      ],
      "metadata": {
        "colab": {
          "base_uri": "https://localhost:8080/",
          "height": 143
        },
        "id": "DgliU83Acrob",
        "outputId": "2fbe0bd6-dd39-4f92-b3bf-239685503e73"
      },
      "execution_count": 5,
      "outputs": [
        {
          "output_type": "execute_result",
          "data": {
            "text/plain": [
              "                 0     1     2     3     4\n",
              "frequent       966   943   941   932   965\n",
              "infrequent    1481  1052  1069  1099  1259\n",
              "never occurs  1058  1021  1022  1031  1046"
            ],
            "text/html": [
              "\n",
              "  <div id=\"df-598d9f3e-019d-40b3-99c7-ddbc386b5a1c\">\n",
              "    <div class=\"colab-df-container\">\n",
              "      <div>\n",
              "<style scoped>\n",
              "    .dataframe tbody tr th:only-of-type {\n",
              "        vertical-align: middle;\n",
              "    }\n",
              "\n",
              "    .dataframe tbody tr th {\n",
              "        vertical-align: top;\n",
              "    }\n",
              "\n",
              "    .dataframe thead th {\n",
              "        text-align: right;\n",
              "    }\n",
              "</style>\n",
              "<table border=\"1\" class=\"dataframe\">\n",
              "  <thead>\n",
              "    <tr style=\"text-align: right;\">\n",
              "      <th></th>\n",
              "      <th>0</th>\n",
              "      <th>1</th>\n",
              "      <th>2</th>\n",
              "      <th>3</th>\n",
              "      <th>4</th>\n",
              "    </tr>\n",
              "  </thead>\n",
              "  <tbody>\n",
              "    <tr>\n",
              "      <th>frequent</th>\n",
              "      <td>966</td>\n",
              "      <td>943</td>\n",
              "      <td>941</td>\n",
              "      <td>932</td>\n",
              "      <td>965</td>\n",
              "    </tr>\n",
              "    <tr>\n",
              "      <th>infrequent</th>\n",
              "      <td>1481</td>\n",
              "      <td>1052</td>\n",
              "      <td>1069</td>\n",
              "      <td>1099</td>\n",
              "      <td>1259</td>\n",
              "    </tr>\n",
              "    <tr>\n",
              "      <th>never occurs</th>\n",
              "      <td>1058</td>\n",
              "      <td>1021</td>\n",
              "      <td>1022</td>\n",
              "      <td>1031</td>\n",
              "      <td>1046</td>\n",
              "    </tr>\n",
              "  </tbody>\n",
              "</table>\n",
              "</div>\n",
              "      <button class=\"colab-df-convert\" onclick=\"convertToInteractive('df-598d9f3e-019d-40b3-99c7-ddbc386b5a1c')\"\n",
              "              title=\"Convert this dataframe to an interactive table.\"\n",
              "              style=\"display:none;\">\n",
              "        \n",
              "  <svg xmlns=\"http://www.w3.org/2000/svg\" height=\"24px\"viewBox=\"0 0 24 24\"\n",
              "       width=\"24px\">\n",
              "    <path d=\"M0 0h24v24H0V0z\" fill=\"none\"/>\n",
              "    <path d=\"M18.56 5.44l.94 2.06.94-2.06 2.06-.94-2.06-.94-.94-2.06-.94 2.06-2.06.94zm-11 1L8.5 8.5l.94-2.06 2.06-.94-2.06-.94L8.5 2.5l-.94 2.06-2.06.94zm10 10l.94 2.06.94-2.06 2.06-.94-2.06-.94-.94-2.06-.94 2.06-2.06.94z\"/><path d=\"M17.41 7.96l-1.37-1.37c-.4-.4-.92-.59-1.43-.59-.52 0-1.04.2-1.43.59L10.3 9.45l-7.72 7.72c-.78.78-.78 2.05 0 2.83L4 21.41c.39.39.9.59 1.41.59.51 0 1.02-.2 1.41-.59l7.78-7.78 2.81-2.81c.8-.78.8-2.07 0-2.86zM5.41 20L4 18.59l7.72-7.72 1.47 1.35L5.41 20z\"/>\n",
              "  </svg>\n",
              "      </button>\n",
              "      \n",
              "  <style>\n",
              "    .colab-df-container {\n",
              "      display:flex;\n",
              "      flex-wrap:wrap;\n",
              "      gap: 12px;\n",
              "    }\n",
              "\n",
              "    .colab-df-convert {\n",
              "      background-color: #E8F0FE;\n",
              "      border: none;\n",
              "      border-radius: 50%;\n",
              "      cursor: pointer;\n",
              "      display: none;\n",
              "      fill: #1967D2;\n",
              "      height: 32px;\n",
              "      padding: 0 0 0 0;\n",
              "      width: 32px;\n",
              "    }\n",
              "\n",
              "    .colab-df-convert:hover {\n",
              "      background-color: #E2EBFA;\n",
              "      box-shadow: 0px 1px 2px rgba(60, 64, 67, 0.3), 0px 1px 3px 1px rgba(60, 64, 67, 0.15);\n",
              "      fill: #174EA6;\n",
              "    }\n",
              "\n",
              "    [theme=dark] .colab-df-convert {\n",
              "      background-color: #3B4455;\n",
              "      fill: #D2E3FC;\n",
              "    }\n",
              "\n",
              "    [theme=dark] .colab-df-convert:hover {\n",
              "      background-color: #434B5C;\n",
              "      box-shadow: 0px 1px 3px 1px rgba(0, 0, 0, 0.15);\n",
              "      filter: drop-shadow(0px 1px 2px rgba(0, 0, 0, 0.3));\n",
              "      fill: #FFFFFF;\n",
              "    }\n",
              "  </style>\n",
              "\n",
              "      <script>\n",
              "        const buttonEl =\n",
              "          document.querySelector('#df-598d9f3e-019d-40b3-99c7-ddbc386b5a1c button.colab-df-convert');\n",
              "        buttonEl.style.display =\n",
              "          google.colab.kernel.accessAllowed ? 'block' : 'none';\n",
              "\n",
              "        async function convertToInteractive(key) {\n",
              "          const element = document.querySelector('#df-598d9f3e-019d-40b3-99c7-ddbc386b5a1c');\n",
              "          const dataTable =\n",
              "            await google.colab.kernel.invokeFunction('convertToInteractive',\n",
              "                                                     [key], {});\n",
              "          if (!dataTable) return;\n",
              "\n",
              "          const docLinkHtml = 'Like what you see? Visit the ' +\n",
              "            '<a target=\"_blank\" href=https://colab.research.google.com/notebooks/data_table.ipynb>data table notebook</a>'\n",
              "            + ' to learn more about interactive tables.';\n",
              "          element.innerHTML = '';\n",
              "          dataTable['output_type'] = 'display_data';\n",
              "          await google.colab.output.renderOutput(dataTable, element);\n",
              "          const docLink = document.createElement('div');\n",
              "          docLink.innerHTML = docLinkHtml;\n",
              "          element.appendChild(docLink);\n",
              "        }\n",
              "      </script>\n",
              "    </div>\n",
              "  </div>\n",
              "  "
            ]
          },
          "metadata": {},
          "execution_count": 5
        }
      ]
    },
    {
      "cell_type": "code",
      "source": [
        "freq = [966, 943, 941, 932, 965]\n",
        "infreq = [1481, 1052, 1069, 1099, 1259]\n",
        "never = [1058, 1021, 1022, 1031, 1046]\n",
        "\n",
        "df = pd.DataFrame(list(zip(freq, infreq, never)),\n",
        "               columns =[\"frequent\", \"infrequent\", \"never occurs\"])\n",
        "\n",
        "df"
      ],
      "metadata": {
        "colab": {
          "base_uri": "https://localhost:8080/",
          "height": 206
        },
        "outputId": "8f780d0d-8a47-46e8-f328-bac5b470878b",
        "id": "XlL38Tkt_env"
      },
      "execution_count": 6,
      "outputs": [
        {
          "output_type": "execute_result",
          "data": {
            "text/plain": [
              "   frequent  infrequent  never occurs\n",
              "0       966        1481          1058\n",
              "1       943        1052          1021\n",
              "2       941        1069          1022\n",
              "3       932        1099          1031\n",
              "4       965        1259          1046"
            ],
            "text/html": [
              "\n",
              "  <div id=\"df-476c7077-7cb0-43e2-b886-ad1234950a4a\">\n",
              "    <div class=\"colab-df-container\">\n",
              "      <div>\n",
              "<style scoped>\n",
              "    .dataframe tbody tr th:only-of-type {\n",
              "        vertical-align: middle;\n",
              "    }\n",
              "\n",
              "    .dataframe tbody tr th {\n",
              "        vertical-align: top;\n",
              "    }\n",
              "\n",
              "    .dataframe thead th {\n",
              "        text-align: right;\n",
              "    }\n",
              "</style>\n",
              "<table border=\"1\" class=\"dataframe\">\n",
              "  <thead>\n",
              "    <tr style=\"text-align: right;\">\n",
              "      <th></th>\n",
              "      <th>frequent</th>\n",
              "      <th>infrequent</th>\n",
              "      <th>never occurs</th>\n",
              "    </tr>\n",
              "  </thead>\n",
              "  <tbody>\n",
              "    <tr>\n",
              "      <th>0</th>\n",
              "      <td>966</td>\n",
              "      <td>1481</td>\n",
              "      <td>1058</td>\n",
              "    </tr>\n",
              "    <tr>\n",
              "      <th>1</th>\n",
              "      <td>943</td>\n",
              "      <td>1052</td>\n",
              "      <td>1021</td>\n",
              "    </tr>\n",
              "    <tr>\n",
              "      <th>2</th>\n",
              "      <td>941</td>\n",
              "      <td>1069</td>\n",
              "      <td>1022</td>\n",
              "    </tr>\n",
              "    <tr>\n",
              "      <th>3</th>\n",
              "      <td>932</td>\n",
              "      <td>1099</td>\n",
              "      <td>1031</td>\n",
              "    </tr>\n",
              "    <tr>\n",
              "      <th>4</th>\n",
              "      <td>965</td>\n",
              "      <td>1259</td>\n",
              "      <td>1046</td>\n",
              "    </tr>\n",
              "  </tbody>\n",
              "</table>\n",
              "</div>\n",
              "      <button class=\"colab-df-convert\" onclick=\"convertToInteractive('df-476c7077-7cb0-43e2-b886-ad1234950a4a')\"\n",
              "              title=\"Convert this dataframe to an interactive table.\"\n",
              "              style=\"display:none;\">\n",
              "        \n",
              "  <svg xmlns=\"http://www.w3.org/2000/svg\" height=\"24px\"viewBox=\"0 0 24 24\"\n",
              "       width=\"24px\">\n",
              "    <path d=\"M0 0h24v24H0V0z\" fill=\"none\"/>\n",
              "    <path d=\"M18.56 5.44l.94 2.06.94-2.06 2.06-.94-2.06-.94-.94-2.06-.94 2.06-2.06.94zm-11 1L8.5 8.5l.94-2.06 2.06-.94-2.06-.94L8.5 2.5l-.94 2.06-2.06.94zm10 10l.94 2.06.94-2.06 2.06-.94-2.06-.94-.94-2.06-.94 2.06-2.06.94z\"/><path d=\"M17.41 7.96l-1.37-1.37c-.4-.4-.92-.59-1.43-.59-.52 0-1.04.2-1.43.59L10.3 9.45l-7.72 7.72c-.78.78-.78 2.05 0 2.83L4 21.41c.39.39.9.59 1.41.59.51 0 1.02-.2 1.41-.59l7.78-7.78 2.81-2.81c.8-.78.8-2.07 0-2.86zM5.41 20L4 18.59l7.72-7.72 1.47 1.35L5.41 20z\"/>\n",
              "  </svg>\n",
              "      </button>\n",
              "      \n",
              "  <style>\n",
              "    .colab-df-container {\n",
              "      display:flex;\n",
              "      flex-wrap:wrap;\n",
              "      gap: 12px;\n",
              "    }\n",
              "\n",
              "    .colab-df-convert {\n",
              "      background-color: #E8F0FE;\n",
              "      border: none;\n",
              "      border-radius: 50%;\n",
              "      cursor: pointer;\n",
              "      display: none;\n",
              "      fill: #1967D2;\n",
              "      height: 32px;\n",
              "      padding: 0 0 0 0;\n",
              "      width: 32px;\n",
              "    }\n",
              "\n",
              "    .colab-df-convert:hover {\n",
              "      background-color: #E2EBFA;\n",
              "      box-shadow: 0px 1px 2px rgba(60, 64, 67, 0.3), 0px 1px 3px 1px rgba(60, 64, 67, 0.15);\n",
              "      fill: #174EA6;\n",
              "    }\n",
              "\n",
              "    [theme=dark] .colab-df-convert {\n",
              "      background-color: #3B4455;\n",
              "      fill: #D2E3FC;\n",
              "    }\n",
              "\n",
              "    [theme=dark] .colab-df-convert:hover {\n",
              "      background-color: #434B5C;\n",
              "      box-shadow: 0px 1px 3px 1px rgba(0, 0, 0, 0.15);\n",
              "      filter: drop-shadow(0px 1px 2px rgba(0, 0, 0, 0.3));\n",
              "      fill: #FFFFFF;\n",
              "    }\n",
              "  </style>\n",
              "\n",
              "      <script>\n",
              "        const buttonEl =\n",
              "          document.querySelector('#df-476c7077-7cb0-43e2-b886-ad1234950a4a button.colab-df-convert');\n",
              "        buttonEl.style.display =\n",
              "          google.colab.kernel.accessAllowed ? 'block' : 'none';\n",
              "\n",
              "        async function convertToInteractive(key) {\n",
              "          const element = document.querySelector('#df-476c7077-7cb0-43e2-b886-ad1234950a4a');\n",
              "          const dataTable =\n",
              "            await google.colab.kernel.invokeFunction('convertToInteractive',\n",
              "                                                     [key], {});\n",
              "          if (!dataTable) return;\n",
              "\n",
              "          const docLinkHtml = 'Like what you see? Visit the ' +\n",
              "            '<a target=\"_blank\" href=https://colab.research.google.com/notebooks/data_table.ipynb>data table notebook</a>'\n",
              "            + ' to learn more about interactive tables.';\n",
              "          element.innerHTML = '';\n",
              "          dataTable['output_type'] = 'display_data';\n",
              "          await google.colab.output.renderOutput(dataTable, element);\n",
              "          const docLink = document.createElement('div');\n",
              "          docLink.innerHTML = docLinkHtml;\n",
              "          element.appendChild(docLink);\n",
              "        }\n",
              "      </script>\n",
              "    </div>\n",
              "  </div>\n",
              "  "
            ]
          },
          "metadata": {},
          "execution_count": 6
        }
      ]
    },
    {
      "cell_type": "code",
      "source": [
        "df.mean()"
      ],
      "metadata": {
        "colab": {
          "base_uri": "https://localhost:8080/"
        },
        "id": "rS3Yl4U7dGeq",
        "outputId": "77279e51-def2-4757-ce79-1f517377bf05"
      },
      "execution_count": 7,
      "outputs": [
        {
          "output_type": "execute_result",
          "data": {
            "text/plain": [
              "frequent         949.4\n",
              "infrequent      1192.0\n",
              "never occurs    1035.6\n",
              "dtype: float64"
            ]
          },
          "metadata": {},
          "execution_count": 7
        }
      ]
    },
    {
      "cell_type": "code",
      "source": [
        "df.std()"
      ],
      "metadata": {
        "colab": {
          "base_uri": "https://localhost:8080/"
        },
        "id": "EH2AaBagdYUD",
        "outputId": "3e6a8a38-a7e3-49f6-828f-0335a3924f8a"
      },
      "execution_count": 8,
      "outputs": [
        {
          "output_type": "execute_result",
          "data": {
            "text/plain": [
              "frequent         15.274161\n",
              "infrequent      181.237413\n",
              "never occurs     16.040574\n",
              "dtype: float64"
            ]
          },
          "metadata": {},
          "execution_count": 8
        }
      ]
    },
    {
      "cell_type": "code",
      "source": [
        "df.median()"
      ],
      "metadata": {
        "colab": {
          "base_uri": "https://localhost:8080/"
        },
        "id": "sh45iUztdbz5",
        "outputId": "dff7f850-6d03-4889-af04-681c3c946283"
      },
      "execution_count": 9,
      "outputs": [
        {
          "output_type": "execute_result",
          "data": {
            "text/plain": [
              "frequent         943.0\n",
              "infrequent      1099.0\n",
              "never occurs    1031.0\n",
              "dtype: float64"
            ]
          },
          "metadata": {},
          "execution_count": 9
        }
      ]
    },
    {
      "cell_type": "code",
      "source": [
        "query_latency = (949.4 + 1192 + 1035.6) / 3\n",
        "query_latency"
      ],
      "metadata": {
        "colab": {
          "base_uri": "https://localhost:8080/"
        },
        "id": "FjG6ogZvAOmB",
        "outputId": "14ba31a6-fc58-45b9-e1ce-3f1d998d4bff"
      },
      "execution_count": 16,
      "outputs": [
        {
          "output_type": "execute_result",
          "data": {
            "text/plain": [
              "1059.0"
            ]
          },
          "metadata": {},
          "execution_count": 16
        }
      ]
    },
    {
      "cell_type": "code",
      "source": [
        "df2 = pd.DataFrame([949.4, 1192, 1035.6])\n",
        "df2"
      ],
      "metadata": {
        "colab": {
          "base_uri": "https://localhost:8080/",
          "height": 143
        },
        "id": "fNSPTJQjBIXy",
        "outputId": "b6287df6-041a-4717-b019-81b0cc71389a"
      },
      "execution_count": 20,
      "outputs": [
        {
          "output_type": "execute_result",
          "data": {
            "text/plain": [
              "        0\n",
              "0   949.4\n",
              "1  1192.0\n",
              "2  1035.6"
            ],
            "text/html": [
              "\n",
              "  <div id=\"df-456df32e-8083-44df-b263-468e83f4f3ea\">\n",
              "    <div class=\"colab-df-container\">\n",
              "      <div>\n",
              "<style scoped>\n",
              "    .dataframe tbody tr th:only-of-type {\n",
              "        vertical-align: middle;\n",
              "    }\n",
              "\n",
              "    .dataframe tbody tr th {\n",
              "        vertical-align: top;\n",
              "    }\n",
              "\n",
              "    .dataframe thead th {\n",
              "        text-align: right;\n",
              "    }\n",
              "</style>\n",
              "<table border=\"1\" class=\"dataframe\">\n",
              "  <thead>\n",
              "    <tr style=\"text-align: right;\">\n",
              "      <th></th>\n",
              "      <th>0</th>\n",
              "    </tr>\n",
              "  </thead>\n",
              "  <tbody>\n",
              "    <tr>\n",
              "      <th>0</th>\n",
              "      <td>949.4</td>\n",
              "    </tr>\n",
              "    <tr>\n",
              "      <th>1</th>\n",
              "      <td>1192.0</td>\n",
              "    </tr>\n",
              "    <tr>\n",
              "      <th>2</th>\n",
              "      <td>1035.6</td>\n",
              "    </tr>\n",
              "  </tbody>\n",
              "</table>\n",
              "</div>\n",
              "      <button class=\"colab-df-convert\" onclick=\"convertToInteractive('df-456df32e-8083-44df-b263-468e83f4f3ea')\"\n",
              "              title=\"Convert this dataframe to an interactive table.\"\n",
              "              style=\"display:none;\">\n",
              "        \n",
              "  <svg xmlns=\"http://www.w3.org/2000/svg\" height=\"24px\"viewBox=\"0 0 24 24\"\n",
              "       width=\"24px\">\n",
              "    <path d=\"M0 0h24v24H0V0z\" fill=\"none\"/>\n",
              "    <path d=\"M18.56 5.44l.94 2.06.94-2.06 2.06-.94-2.06-.94-.94-2.06-.94 2.06-2.06.94zm-11 1L8.5 8.5l.94-2.06 2.06-.94-2.06-.94L8.5 2.5l-.94 2.06-2.06.94zm10 10l.94 2.06.94-2.06 2.06-.94-2.06-.94-.94-2.06-.94 2.06-2.06.94z\"/><path d=\"M17.41 7.96l-1.37-1.37c-.4-.4-.92-.59-1.43-.59-.52 0-1.04.2-1.43.59L10.3 9.45l-7.72 7.72c-.78.78-.78 2.05 0 2.83L4 21.41c.39.39.9.59 1.41.59.51 0 1.02-.2 1.41-.59l7.78-7.78 2.81-2.81c.8-.78.8-2.07 0-2.86zM5.41 20L4 18.59l7.72-7.72 1.47 1.35L5.41 20z\"/>\n",
              "  </svg>\n",
              "      </button>\n",
              "      \n",
              "  <style>\n",
              "    .colab-df-container {\n",
              "      display:flex;\n",
              "      flex-wrap:wrap;\n",
              "      gap: 12px;\n",
              "    }\n",
              "\n",
              "    .colab-df-convert {\n",
              "      background-color: #E8F0FE;\n",
              "      border: none;\n",
              "      border-radius: 50%;\n",
              "      cursor: pointer;\n",
              "      display: none;\n",
              "      fill: #1967D2;\n",
              "      height: 32px;\n",
              "      padding: 0 0 0 0;\n",
              "      width: 32px;\n",
              "    }\n",
              "\n",
              "    .colab-df-convert:hover {\n",
              "      background-color: #E2EBFA;\n",
              "      box-shadow: 0px 1px 2px rgba(60, 64, 67, 0.3), 0px 1px 3px 1px rgba(60, 64, 67, 0.15);\n",
              "      fill: #174EA6;\n",
              "    }\n",
              "\n",
              "    [theme=dark] .colab-df-convert {\n",
              "      background-color: #3B4455;\n",
              "      fill: #D2E3FC;\n",
              "    }\n",
              "\n",
              "    [theme=dark] .colab-df-convert:hover {\n",
              "      background-color: #434B5C;\n",
              "      box-shadow: 0px 1px 3px 1px rgba(0, 0, 0, 0.15);\n",
              "      filter: drop-shadow(0px 1px 2px rgba(0, 0, 0, 0.3));\n",
              "      fill: #FFFFFF;\n",
              "    }\n",
              "  </style>\n",
              "\n",
              "      <script>\n",
              "        const buttonEl =\n",
              "          document.querySelector('#df-456df32e-8083-44df-b263-468e83f4f3ea button.colab-df-convert');\n",
              "        buttonEl.style.display =\n",
              "          google.colab.kernel.accessAllowed ? 'block' : 'none';\n",
              "\n",
              "        async function convertToInteractive(key) {\n",
              "          const element = document.querySelector('#df-456df32e-8083-44df-b263-468e83f4f3ea');\n",
              "          const dataTable =\n",
              "            await google.colab.kernel.invokeFunction('convertToInteractive',\n",
              "                                                     [key], {});\n",
              "          if (!dataTable) return;\n",
              "\n",
              "          const docLinkHtml = 'Like what you see? Visit the ' +\n",
              "            '<a target=\"_blank\" href=https://colab.research.google.com/notebooks/data_table.ipynb>data table notebook</a>'\n",
              "            + ' to learn more about interactive tables.';\n",
              "          element.innerHTML = '';\n",
              "          dataTable['output_type'] = 'display_data';\n",
              "          await google.colab.output.renderOutput(dataTable, element);\n",
              "          const docLink = document.createElement('div');\n",
              "          docLink.innerHTML = docLinkHtml;\n",
              "          element.appendChild(docLink);\n",
              "        }\n",
              "      </script>\n",
              "    </div>\n",
              "  </div>\n",
              "  "
            ]
          },
          "metadata": {},
          "execution_count": 20
        }
      ]
    },
    {
      "cell_type": "code",
      "source": [
        "df2.mean()"
      ],
      "metadata": {
        "colab": {
          "base_uri": "https://localhost:8080/"
        },
        "id": "9wi_WKKYBi3s",
        "outputId": "96a1a722-31f6-4509-9e1e-a49b32b6fba3"
      },
      "execution_count": 21,
      "outputs": [
        {
          "output_type": "execute_result",
          "data": {
            "text/plain": [
              "0    1059.0\n",
              "dtype: float64"
            ]
          },
          "metadata": {},
          "execution_count": 21
        }
      ]
    },
    {
      "cell_type": "code",
      "source": [
        "df2.std()"
      ],
      "metadata": {
        "colab": {
          "base_uri": "https://localhost:8080/"
        },
        "id": "BFZ9qHO6BjBE",
        "outputId": "f4f9ff4b-e6b7-435e-9d3d-cc53230f8edd"
      },
      "execution_count": 22,
      "outputs": [
        {
          "output_type": "execute_result",
          "data": {
            "text/plain": [
              "0    122.981137\n",
              "dtype: float64"
            ]
          },
          "metadata": {},
          "execution_count": 22
        }
      ]
    },
    {
      "cell_type": "markdown",
      "source": [
        "Conclusion:\n",
        "Mean query latency across different query categories was found to be 1059 milliseconds with a standard deviation of 123 milliseconds."
      ],
      "metadata": {
        "id": "Sad0cfoIAFdx"
      }
    },
    {
      "cell_type": "markdown",
      "source": [
        "Other observations:\n",
        "\n",
        "Compute time was found to be constantly despite scale of machine, while latency increased as the size of the data sent between machines also increased.\n",
        "\n",
        "Below is a scatterplot representing the average query latency for two types of queries (count queries vs line queries). Since line queries returned back huge amounts of text data, the latency observed was much higher."
      ],
      "metadata": {
        "id": "eIwXcn49B8M4"
      }
    },
    {
      "cell_type": "code",
      "source": [
        "import matplotlib.pyplot as plt\n",
        "\n",
        "queryTime1 = [1492,1413,1249]\n",
        "machineCount1 = [10, 10, 1]\n",
        "queryTime2 = [10593,14637,1491,1285,2406]\n",
        "machineCount2 = [10, 10, 10, 1, 4]\n",
        "\n",
        "ax = plt.axes()\n",
        "\n",
        "ax.scatter(machineCount1, queryTime1, label='Count queries')\n",
        "ax.scatter(machineCount2, queryTime2, label='Line queries')\n",
        "ax.set_title('Query time across machines loads')\n",
        "ax.set_ylabel('Query time in milli seconds')\n",
        "ax.set_xlabel('Machine load count')\n",
        "ax.legend()"
      ],
      "metadata": {
        "colab": {
          "base_uri": "https://localhost:8080/",
          "height": 313
        },
        "id": "4t4PmDIEdggR",
        "outputId": "7e7b07bc-d545-4b6b-92bb-2efde5d2a90b"
      },
      "execution_count": 29,
      "outputs": [
        {
          "output_type": "execute_result",
          "data": {
            "text/plain": [
              "<matplotlib.legend.Legend at 0x7f3c0e7de210>"
            ]
          },
          "metadata": {},
          "execution_count": 29
        },
        {
          "output_type": "display_data",
          "data": {
            "text/plain": [
              "<Figure size 432x288 with 1 Axes>"
            ],
            "image/png": "[encoded data removed]"
          },
          "metadata": {
            "needs_background": "light"
          }
        }
      ]
    },
    {
      "cell_type": "code",
      "source": [],
      "metadata": {
        "id": "dbCzKuWvChzI"
      },
      "execution_count": null,
      "outputs": []
    }
  ]
}